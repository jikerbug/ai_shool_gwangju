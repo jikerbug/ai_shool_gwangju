{
  "nbformat": 4,
  "nbformat_minor": 0,
  "metadata": {
    "colab": {
      "name": "2주차 수업.ipynb",
      "provenance": [],
      "collapsed_sections": [],
      "authorship_tag": "ABX9TyN8JxKnUr07oFhDdxMU6Qna",
      "include_colab_link": true
    },
    "kernelspec": {
      "name": "python3",
      "display_name": "Python 3"
    }
  },
  "cells": [
    {
      "cell_type": "markdown",
      "metadata": {
        "id": "view-in-github",
        "colab_type": "text"
      },
      "source": [
        "<a href=\"https://colab.research.google.com/github/jikerbug/ai_shool_gwangju/blob/master/2%EC%A3%BC%EC%B0%A8_%EC%88%98%EC%97%85.ipynb\" target=\"_parent\"><img src=\"https://colab.research.google.com/assets/colab-badge.svg\" alt=\"Open In Colab\"/></a>"
      ]
    },
    {
      "cell_type": "code",
      "metadata": {
        "id": "lKQNovdHp-ud",
        "colab_type": "code",
        "colab": {
          "base_uri": "https://localhost:8080/",
          "height": 34
        },
        "outputId": "f49d4529-ffeb-4368-afa8-e2d50fa3d475"
      },
      "source": [
        "print(\"월요일 수업\")"
      ],
      "execution_count": 1,
      "outputs": [
        {
          "output_type": "stream",
          "text": [
            "월요일 수업\n"
          ],
          "name": "stdout"
        }
      ]
    },
    {
      "cell_type": "markdown",
      "metadata": {
        "id": "Q9rFb8Ydq2gP",
        "colab_type": "text"
      },
      "source": [
        "#웹수업\n",
        "\n",
        "*  웹의 작동은 오로지! 서버로의 Request와 서버로부터의 Response로만 이루어진다.\n",
        "*  개발자도구 -> network -> 파일선택하면 response 확인 가능\n",
        "*  마구잡이로 요청(request)을 보내는 게 아니라 http 프로토콜(규약)에 맞춰 보내야한다. 그리고 이 요청은 url을 통해 보내준다.\n",
        "*  ( http:// .. URL .. 라는 건 URL을 http에 해당하는 규약을 통해 썼다는 뜻! / https일 수도 있을것)\n",
        "*  원하는 데이터의 요청을 URL에 담는다"
      ]
    },
    {
      "cell_type": "markdown",
      "metadata": {
        "id": "NDYtHUXS06Et",
        "colab_type": "text"
      },
      "source": [
        "#빅데이터 수업\n",
        "*  ex_0207.ipynb &\n",
        "mini_project_0402\n",
        "*  csv : comma separated value ... wow!\n",
        "*  fancy indexing에서는 &, |, ~ 으로 and or not 표현한다.\n",
        "*  data frame에 담긴 데이터인 series : column마다의 타입만 일치하면 ok (list는 통일 x, numpy_array는 통일 o)\n",
        "*  ``취업에서 진짜 중요한 것은 어려운거 해봤다보다도 쉬운것을 믿고 맡길 수 있는 기초가 탄탄한가! 이것이 중요함! 그리고 그것보다 더 중요한것은 프로젝트에서의 협업, 책임감 인성!!``\n",
        "\n",
        "#자연어처리 수업 ( 오늘은 sql )\n",
        "*  시험리뷰 : create table if not exists feed(title text, content text, user text) ... 이런 식으로 한번만 create하게 할 수 있다.\n",
        "*  시험리뷰 : SELECT CountryCode, COUNT(CountryCode) FROM city GROUP BY CountryCode ORDER BY COUNT(CountryCode) DESC\n",
        "*  텍스트 마이닝 : 단어들을 벡터공간에 놓아 거리를 계산한다.\n",
        "\n",
        "#머신러닝 수업\n",
        "* 시험리뷰 : num = str(random.randint(0,999)\n",
        "ln = 3 - len(num)\n",
        "num = ('0' * ln) + num\n",
        "or\n",
        "\"{:>03}\".format(n)\n",
        "or\n",
        "num.zfill(3)\n",
        "* 함수는 결과값을 리턴을 하고, 출력은 외부에서 처리를 하는 것이 정석이다. 결과값의 unit test를 위해서도 이것이 필요하다.\n"
      ]
    },
    {
      "cell_type": "code",
      "metadata": {
        "id": "V3sN_ZMAdatX",
        "colab_type": "code",
        "colab": {
          "base_uri": "https://localhost:8080/",
          "height": 87
        },
        "outputId": "990c8eff-41fb-4a40-b978-3a8de178171a"
      },
      "source": [
        "#################알고리즘 수업\n",
        "\n",
        "#자연수 N이 주어졌을때, N으로 나눈 나머지와 몫이 같은 모든 숫자를 더해서 출력하세요\n",
        "\n",
        "def solution(N):\n",
        "    sum = 0\n",
        "    for num in range(N, N*N): # 나머지의 값은 최소 0부터 최대 N-1이기 때문에 몫이 N이 되는 N*N부터는 해줄 필요가 없다. \n",
        "        value_1 = num // N\n",
        "        value_2 = num % N\n",
        "        if value_1 == value_2:\n",
        "            sum += num\n",
        "\n",
        "    return sum\n",
        "for i in range(1,5):\n",
        "    print(solution(i))\n",
        "\n",
        "\n",
        "\n"
      ],
      "execution_count": null,
      "outputs": [
        {
          "output_type": "stream",
          "text": [
            "0\n",
            "3\n",
            "12\n",
            "30\n"
          ],
          "name": "stdout"
        }
      ]
    },
    {
      "cell_type": "code",
      "metadata": {
        "id": "Ns-G0ePDpm_B",
        "colab_type": "code",
        "colab": {}
      },
      "source": [
        "print(\"화요일 수업\")"
      ],
      "execution_count": null,
      "outputs": []
    },
    {
      "cell_type": "markdown",
      "metadata": {
        "id": "mebsn9CkpuZN",
        "colab_type": "text"
      },
      "source": [
        "#웹수업\n",
        "1. 클라이언트에서 request(요청) / 서버애서 response(응답)\n",
        "\n",
        "2. git은 local repo, github는 remote repo"
      ]
    }
  ]
}