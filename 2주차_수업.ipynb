{
  "nbformat": 4,
  "nbformat_minor": 0,
  "metadata": {
    "colab": {
      "name": "2주차 수업.ipynb",
      "provenance": [],
      "collapsed_sections": [],
      "authorship_tag": "ABX9TyNgX5h+gACNUrdu/4/Go9M2",
      "include_colab_link": true
    },
    "kernelspec": {
      "name": "python3",
      "display_name": "Python 3"
    }
  },
  "cells": [
    {
      "cell_type": "markdown",
      "metadata": {
        "id": "view-in-github",
        "colab_type": "text"
      },
      "source": [
        "<a href=\"https://colab.research.google.com/github/jikerbug/ai_shool_gwangju/blob/master/2%EC%A3%BC%EC%B0%A8_%EC%88%98%EC%97%85.ipynb\" target=\"_parent\"><img src=\"https://colab.research.google.com/assets/colab-badge.svg\" alt=\"Open In Colab\"/></a>"
      ]
    },
    {
      "cell_type": "code",
      "metadata": {
        "id": "lKQNovdHp-ud",
        "colab_type": "code",
        "colab": {
          "base_uri": "https://localhost:8080/",
          "height": 34
        },
        "outputId": "f49d4529-ffeb-4368-afa8-e2d50fa3d475"
      },
      "source": [
        "print(\"월요일 수업\")"
      ],
      "execution_count": null,
      "outputs": [
        {
          "output_type": "stream",
          "text": [
            "월요일 수업\n"
          ],
          "name": "stdout"
        }
      ]
    },
    {
      "cell_type": "markdown",
      "metadata": {
        "id": "Q9rFb8Ydq2gP",
        "colab_type": "text"
      },
      "source": [
        "#웹수업\n",
        "\n",
        "*  웹의 작동은 오로지! 서버로의 Request와 서버로부터의 Response로만 이루어진다.\n",
        "*  개발자도구 -> network -> 파일선택하면 response 확인 가능\n",
        "*  마구잡이로 요청(request)을 보내는 게 아니라 http 프로토콜(규약)에 맞춰 보내야한다. 그리고 이 요청은 url을 통해 보내준다.\n",
        "*  ( http:// .. URL .. 라는 건 URL을 http에 해당하는 규약을 통해 썼다는 뜻! / https일 수도 있을것)\n",
        "*  원하는 데이터의 요청을 URL에 담는다"
      ]
    },
    {
      "cell_type": "markdown",
      "metadata": {
        "id": "NDYtHUXS06Et",
        "colab_type": "text"
      },
      "source": [
        "#빅데이터 수업\n",
        "*  ex_0207.ipynb &\n",
        "mini_project_0402\n",
        "*  csv : comma separated value ... wow!\n",
        "*  fancy indexing에서는 &, |, ~ 으로 and or not 표현한다.\n",
        "*  data frame에 담긴 데이터인 series : column마다의 타입만 일치하면 ok (list는 통일 x, numpy_array는 통일 o)\n",
        "*  ``취업에서 진짜 중요한 것은 어려운거 해봤다보다도 쉬운것을 믿고 맡길 수 있는 기초가 탄탄한가! 이것이 중요함! 그리고 그것보다 더 중요한것은 프로젝트에서의 협업, 책임감 인성!!``\n",
        "\n",
        "#자연어처리 수업 ( 오늘은 sql )\n",
        "*  시험리뷰 : create table if not exists feed(title text, content text, user text) ... 이런 식으로 한번만 create하게 할 수 있다.\n",
        "*  시험리뷰 : SELECT CountryCode, COUNT(CountryCode) FROM city GROUP BY CountryCode ORDER BY COUNT(CountryCode) DESC\n",
        "*  텍스트 마이닝 : 단어들을 벡터공간에 놓아 거리를 계산한다.\n",
        "\n",
        "#머신러닝 수업\n",
        "* 시험리뷰 : ((랜덤 계좌번호 만들기))\n",
        "* num = str(random.randint(0,999)\n",
        "ln = 3 - len(num) num = ('0' * ln) + num\n",
        "or\n",
        "* \"{:>03}\".format(n)\n",
        "or\n",
        "* num.zfill(3)\n",
        "\n",
        "* 함수는 결과값을 리턴을 하고, 출력은 외부에서 처리를 하는 것이 정석이다. 결과값의 unit test를 위해서도 이것이 필요하다.\n",
        "* df.T를 통해 행렬 전치 good!~ "
      ]
    },
    {
      "cell_type": "markdown",
      "metadata": {
        "id": "r8VIafk3K3DX",
        "colab_type": "text"
      },
      "source": [
        "#알고리즘 수업(코드)"
      ]
    },
    {
      "cell_type": "code",
      "metadata": {
        "id": "V3sN_ZMAdatX",
        "colab_type": "code",
        "colab": {
          "base_uri": "https://localhost:8080/",
          "height": 87
        },
        "outputId": "990c8eff-41fb-4a40-b978-3a8de178171a"
      },
      "source": [
        "#################알고리즘 수업\n",
        "\n",
        "#자연수 N이 주어졌을때, N으로 나눈 나머지와 몫이 같은 모든 숫자를 더해서 출력하세요\n",
        "\n",
        "def solution(N):\n",
        "    sum = 0\n",
        "    for num in range(N, N*N): # 나머지의 값은 최소 0부터 최대 N-1이기 때문에 몫이 N이 되는 N*N부터는 해줄 필요가 없다. \n",
        "        value_1 = num // N\n",
        "        value_2 = num % N\n",
        "        if value_1 == value_2:\n",
        "            sum += num\n",
        "\n",
        "    return sum\n",
        "for i in range(1,5):\n",
        "    print(solution(i))\n",
        "\n",
        "\n",
        "\n"
      ],
      "execution_count": null,
      "outputs": [
        {
          "output_type": "stream",
          "text": [
            "0\n",
            "3\n",
            "12\n",
            "30\n"
          ],
          "name": "stdout"
        }
      ]
    },
    {
      "cell_type": "code",
      "metadata": {
        "id": "Ns-G0ePDpm_B",
        "colab_type": "code",
        "colab": {}
      },
      "source": [
        "print(\"화요일 수업\")"
      ],
      "execution_count": null,
      "outputs": []
    },
    {
      "cell_type": "markdown",
      "metadata": {
        "id": "mebsn9CkpuZN",
        "colab_type": "text"
      },
      "source": [
        "#웹수업\n",
        "1. 클라이언트에서 request(요청) / 서버애서 response(응답)\n",
        "\n",
        "2. git은 local repo, github는 remote repo\n",
        "\n",
        "#빅데이터수업\n",
        "1. 탐색적 데이터 분석 : 수집한 데이터가 들어왔을 때, 이를 다양한 각도에서 관찰, 이해하는 과정. 즉 데이터를 분석하기 전에 그래프나 통계적인 방법으로 자료를 직관적으로 바라보는 과정.\n",
        "2. 우리가 만들어낸 결과, 예측치에는 증거가 필요하다. 따라서 통계적으로 믿을만한 지표인지에 대한 증명을 할 수 있어야 한다. 그래서 확률과 통계를 알아야 한다."
      ]
    },
    {
      "cell_type": "code",
      "metadata": {
        "id": "UYAvK7qsAlMQ",
        "colab_type": "code",
        "colab": {}
      },
      "source": [
        "#빅데이터 수업 ex_0208\n",
        "\n",
        "\n",
        "#여러 series를 모은 것을 data frame이라고 생각하라\n",
        "np.round(df.describe(), 2) # 소수점 2째자리까지만 describe 정보 테이블 출력\n",
        "\n",
        "Y = df0.loc[:,'Species'] #행은 모두. 열은 'Species'만\n",
        "Y.value_counts() # index는 'Species'이고 value는 해당 index의 빈도수인 series가 된다.\n",
        "type(Y.value_counts()) # 결과는 series : index와 values로 이루어진 자료형\n",
        "Y.value_counts().plot.bar(color='yello') # 이렇게 도수분포표출력 가능!\n",
        "\n",
        "df0.groupby('Species').mean(axis = 0) #같은 species값을 가진 그룹(유형) 별로 sum해줌\n",
        "(df0[df0.Species == 'virginica'].mean(axis=0)) #이렇게 3개를 하는 대신에 위의 코드사용!\n",
        "#특정행과 열을 가져오고 싶다 by name : loc사용\n",
        "df.loc[5:10, 'Sepal.Length']\n",
        "#특정행과 열을 가져오고 싶다 by index : iloc사용\n",
        "df.loc[5:10, 1]\n",
        "#그냥 하나 가져오고 싶다.\n",
        "df['Species'] or df.Species\n",
        "\n",
        "\n",
        "# np.nan : '결측치 라는 placeholder\n",
        "df.mean(axis=0, skipna=False)\n",
        "# NaN + 숫자 = NaN이기 때문에 NaN하나라도 있는 속성의 결과값은 NaN일 것임\n",
        "df.isnull().sum(axis=0) #결측치 개수 확인 가능\n",
        "df.dropna(axis=0) #결측치포함한 데이터 삭제 but! df = df.dropna(axis=0)해줘야 영구 변경\n",
        "# df.dropna(axis=0, inplace=True)라는 방법으로도 영구변경가능\n",
        "df.dropna(axis=0, thresh=3) #한 열의 데이터에 결측치가 3개 이상인 경우만 삭제하라는 명령\n",
        "\n",
        "\n",
        "#결측치처리할때는 보통은 행을 없앤다. 그런데 특정 column의 결측치가 너무 많다면 아래처럼!\n",
        "df.dropna(axis=1, thresh=148) #이렇게 column을 없애주는 것이 더 좋은 선택\n",
        "\n",
        "\n",
        "#결측치를 처리하는 가장 좋은 방법은 각각의 평균을 채워넣어 주는 것!\n",
        "df['Sepal.Length'] = df['Sepal.Length'].fillna(value=df['Sepal.Length'].mean())\n",
        "\n",
        "# 산점도 행렬 출력\n",
        "my_cols_dict = {'setosa': 'red', 'virginica':'green', 'versicolor':'blue'}\n",
        "my_cols = df0['Species'].apply(lambda x: my_cols_dict[x])  # 어떠한 조건을 가지고 조건별로 다르게 처리할 때 apply와 lambda를 사용하면 쉽게 한 개 한 개에 대한 case를 나눠서 할 수 있습니다.\n",
        "# (인풋으로 들어갈 케이스 df).apply(lambda 인풋: 케이스에 따른 아웃풋)\n",
        "pd.plotting.scatter_matrix(df0, c=my_cols, marker='o', alpha=0.5)?\n",
        "plt.show()\n"
      ],
      "execution_count": null,
      "outputs": []
    },
    {
      "cell_type": "code",
      "metadata": {
        "id": "21GIIuFqM23e",
        "colab_type": "code",
        "colab": {}
      },
      "source": [
        "import pandas as pd\n",
        "pd.plotting.scatter_matrix?"
      ],
      "execution_count": null,
      "outputs": []
    },
    {
      "cell_type": "markdown",
      "metadata": {
        "id": "tsj-MPykHeB0",
        "colab_type": "text"
      },
      "source": [
        "#딥러닝수업\n",
        "\n",
        "\n",
        "손실함수는 평균제곱오차(MSE)를 이용한다\n",
        "경사하강법 : 손실기울기(파라미터에 대한 편미분)에 학습률을 곱한값을 빼며,\n",
        "손실함수가 최소가 되는 파라미터값을 찾는 방법\n",
        "(   !!!그런데!!! 구글에서 tensorflow쓰는 거 보면 +=을 쓴다...?\n",
        "->이건 사실 약간 다른 방식이다!   )\n",
        "\n",
        "- Adam : 학습 초반에는 큰 학습률, 바닥점에 가까워질수록 학습률을 줄이는 기법\n",
        "(optimizer: 경사하강법을 더욱 강화시켜주는 것이라 생각!)"
      ]
    },
    {
      "cell_type": "code",
      "metadata": {
        "id": "-I_AxYclV1X3",
        "colab_type": "code",
        "colab": {}
      },
      "source": [
        ""
      ],
      "execution_count": null,
      "outputs": []
    },
    {
      "cell_type": "markdown",
      "metadata": {
        "id": "Mb4qJY_eWaxX",
        "colab_type": "text"
      },
      "source": [
        "#자연어처리 수업(코드)\n"
      ]
    },
    {
      "cell_type": "code",
      "metadata": {
        "id": "xuwXtEqAWfN4",
        "colab_type": "code",
        "colab": {
          "base_uri": "https://localhost:8080/",
          "height": 122
        },
        "outputId": "fe66fed1-b839-4fc0-9ae7-b57a4907930f"
      },
      "source": [
        "#자연어처리 수업 코드\n",
        "import re\n",
        "\n",
        "# ########아래의 리스트에서 1,3번째 만 match되도록하기!\n",
        "# temp_list = ['abbbbba', 'cddb', 'aerb', 'aeeeb', 'almnj']\n",
        "# print(\"test\")\n",
        "# p = re.compile('a.{2}b')\n",
        "# for i in temp_list:\n",
        "#     print(p.match(i))\n",
        "\n",
        "\n",
        "\n",
        "# ###################################################################\n",
        "# ####['abcd efghopqr-stuv', 'abcd-efgh', 'abc defghijk', 'ab cdhijk'] 일 때 1, 3, 4번째만 match되도록 정규표현식을 작성하시오.\n",
        "# temp_list = ['abcd efghopqr-stuv', 'abcd-efgh', 'abc defghijk', 'ab cdhijk']\n",
        "# print(\"test\")\n",
        "# p = re.compile(r'.+\\s.+') # 앞에 r을 붙여야 escape sequence로 '안' 쓸 수 있다.  \\s : 공백\n",
        "# #정규표현식에서도 \\b같은걸 쓰는 것이기 때문에 r을 붙여서 정규표현식의 notation을 쓴다고 선언하는 것!\n",
        "# for i in temp_list:\n",
        "#     print(p.match(i))\n",
        "\n",
        "\n",
        "\n",
        "\n",
        "\n",
        "\n",
        "\n",
        "#################################################################\n",
        "###그룹을 사용해서 ['코끼리는 코끼리', '강아지는 강아지', '고양이는 고양이'] 모두에게 True를 리턴하는 정규표현식을 작성하고, 주어들을 순서대로 출력하세요.\n",
        "s_list = ['코끼리는 코끼리', '강아지는 강아지', '고양이는 고양이'] \n",
        "p= re.compile(r'(?P<name>.+)는\\s\\1') # 읽어온.+ 를 ?P<name>의, name이라는 이름을 붙이고 \\1로 다시 써먹을 수 있다.\n",
        "\n",
        "for s in s_list:\n",
        "    print(p.match(s).group(1))\n",
        "\n",
        "\n",
        "\n",
        "\n",
        "\n",
        "##################################################################\n",
        "##['김준태 - 학점 2.0', '이재화 - 학점 3.0', '최주원 - 학점 4.0']에서 학점을 모두 4.5로 바꿔주세요!\n",
        "s_list = ['김준태 - 학점 2.0', '이재화 - 학점 3.0', '최주원 - 학점 4.0']\n",
        "\n",
        "p = re.compile(r'(?P<rest>.+)\\s-.+')\n",
        "\n",
        "for s in s_list:\n",
        "\n",
        "    print(p.match(s).group('rest') + \" - 학점 4.5\")"
      ],
      "execution_count": null,
      "outputs": [
        {
          "output_type": "stream",
          "text": [
            "코끼리\n",
            "강아지\n",
            "고양이\n",
            "김준태 - 학점 - 학점 4.5\n",
            "이재화 - 학점 - 학점 4.5\n",
            "최주원 - 학점 - 학점 4.5\n"
          ],
          "name": "stdout"
        }
      ]
    },
    {
      "cell_type": "markdown",
      "metadata": {
        "id": "8oLJCGvEKvkD",
        "colab_type": "text"
      },
      "source": [
        "#머신러닝수업 (코드)"
      ]
    },
    {
      "cell_type": "code",
      "metadata": {
        "id": "VdPwS70fJyZ1",
        "colab_type": "code",
        "colab": {}
      },
      "source": [
        "# 머신러닝수업\n",
        "\n",
        "#코랩에서 한글쓰기 검색\n",
        "\n",
        "t = data['요일'].value_counts() # \n",
        "y = t[ ['monday' ... 'sunday'] ]\n",
        "x = [ 'monday', ... 'sunday']\n",
        "plt.ylim(500, 620) \n",
        "#이런식으로 짤라서 표시하면 의도를 담고 정보를 왜곡해서 받아들일 수 있다...\n",
        "\n",
        "\n",
        "plt.bar(x,y)\n",
        "plt.show()\n",
        "\n",
        "\n",
        "#\n"
      ],
      "execution_count": null,
      "outputs": []
    },
    {
      "cell_type": "code",
      "metadata": {
        "id": "A6KLKId-VufT",
        "colab_type": "code",
        "colab": {}
      },
      "source": [
        "# 머신러닝 수업 교통사고 데이터\n",
        "import pandas as pd\n",
        "import matplotlib.pyplot as plt\n",
        "data = pd.read_csv(\"Traffic_Accident_2017_1.csv\", encoding='CP949')\n",
        "\n",
        "\n",
        "\n",
        "#판다스로 시각화\n",
        "# df = pd.read_excel(\"elec.xlsx\")\n",
        "# print(df)\n",
        "\n",
        "print(data)\n",
        "print(data.columns)\n",
        "\n",
        "tmp_df1 = data['사고유형_대분류'][data['사고유형_대분류'] == '차대차']\n",
        "print(tmp_df1)\n",
        "#\n",
        "print(data['발생지시도'].value_counts())\n",
        "#\n",
        "#\n",
        "bins = [-1,2,5,8,11,14,17,20,24]\n",
        "labels = ['0-2', '3-5', '6-8', '9-11', '12-14', '15-17', '18-20','21-23']\n",
        "\n",
        "temp_df = data['발생년월일시'] % 100\n",
        "temp_df.value_counts().sort_index()\n",
        "\n",
        "cats = pd.cut(temp_df.values, bins, labels=labels)\n",
        "r = cats.value_counts()\n",
        "plt.pie(r, labels=labels, autopct='%1.1f%%')\n",
        "plt.show()"
      ],
      "execution_count": null,
      "outputs": []
    },
    {
      "cell_type": "markdown",
      "metadata": {
        "id": "qNWZ2RgSXOZS",
        "colab_type": "text"
      },
      "source": [
        "#알고리즘수업"
      ]
    },
    {
      "cell_type": "code",
      "metadata": {
        "id": "zcUK5-u7dZNj",
        "colab_type": "code",
        "colab": {}
      },
      "source": [
        "#################알고리즘 수업(어제 나의 답! 그러나.... 좋지 못한 답! 왜냐? 큰수 들어오면 반복문 너무 많이 돈다...)\n",
        "\n",
        "#자연수 N이 주어졌을때, N으로 나눈 나머지와 몫이 같은 모든 숫자를 더해서 출력하세요\n",
        "\n",
        "def solution(N):\n",
        "    sum = 0\n",
        "    for num in range(N, N*N): # 나머지의 값은 최소 0부터 최대 N-1이기 때문에 몫이 N이 되는 N*N부터는 해줄 필요가 없다. \n",
        "        value_1 = num // N\n",
        "        value_2 = num % N\n",
        "        if value_1 == value_2:\n",
        "            sum += num\n",
        "\n",
        "    return sum\n",
        "for i in range(1,5):\n",
        "    print(solution(i))\n",
        "\n",
        "##### 좋은 답 :규칙을 찾아서 리턴해주자!\n",
        "\n",
        "def good_solution(N):\n",
        "    # n=3 : 4,8\n",
        "    # n=4 : 5,10,15\n",
        "    # n=5 : 6,12,18,24 -> n+1의 배수를 n-1배수까지 더한다! (n^2 -1까지 더하는 것)\n",
        "    res = 0\n",
        "    # or 나머지와 몫이 같은 수는 유일할수밖에 없다는 것을 이용! (사실 결과는 같다)\n",
        "    for i in range(1,n):\n",
        "        res += i + (n*i) #그러나 이것도 사실 많이 돌아야한다...! -> 수식으로 풀자!\n",
        "   \n",
        "   #가우스합을 이용! n(n+1)(n-1)/2 이다!\n",
        "\n",
        "   # 첫항 + 끝항 * 쌍의 개수 = (n+1 + n^2 - 1) * n-1/2개 (1~n-1끼지의 배수니까!)\n",
        "\n"
      ],
      "execution_count": null,
      "outputs": []
    },
    {
      "cell_type": "code",
      "metadata": {
        "id": "bE45sKqIh3PJ",
        "colab_type": "code",
        "colab": {
          "base_uri": "https://localhost:8080/",
          "height": 158
        },
        "outputId": "cc4a71da-5602-487f-a7b9-075824650972"
      },
      "source": [
        "######알고리즘 두번쨰 문제!\n",
        "##미만, 이하 // 차이점 민감하게 반응!\n",
        "# (x-a)^2 + (y-b)^2 >= R^2 -> 위치(x,y)가 공사현장에서 R이상 떨어져있다는 조건)\n",
        "\n",
        "input_a = input()\n",
        "N = input()\n",
        "a,b,R = input_a.split(' ')\n",
        "\n",
        "\n",
        "def is_out_of_noise(a,b,R,N):\n",
        "    list_output = []\n",
        "    for i in range(int(N)):\n",
        "        input_xy = input()\n",
        "        x, y = input_xy.split(' ')\n",
        "        x = int(x)\n",
        "        y = int(y)\n",
        "        a = int(a)\n",
        "        b = int(b)\n",
        "        R = int(R)\n",
        "        if ((x-a)**2 + (y-b)**2 >= R**2):\n",
        "            list_output.append(\"silent\")\n",
        "        else:\n",
        "            list_output.append(\"noisy\")\n",
        "    return list_output\n",
        "    \n",
        "for output in is_out_of_noise(a,b,R,N):\n",
        "    print(output)\n"
      ],
      "execution_count": null,
      "outputs": [
        {
          "output_type": "stream",
          "text": [
            "20 10 10\n",
            "3\n",
            "25 10\n",
            "20 15\n",
            "70 70\n",
            "noisy\n",
            "noisy\n",
            "silent\n"
          ],
          "name": "stdout"
        }
      ]
    },
    {
      "cell_type": "code",
      "metadata": {
        "id": "n6NzrSdUUMaJ",
        "colab_type": "code",
        "colab": {
          "base_uri": "https://localhost:8080/",
          "height": 175
        },
        "outputId": "257ed0d7-40f8-422a-8e33-0437ef75c8d3"
      },
      "source": [
        "##알고리즘 수업 과제1. 입력받은 숫자 N의 모든 약수를 출력하시오\n",
        "\n",
        "#음.... 약수끼리 곱하면 N이 된다!!.... \n",
        "#음.....이거 n번 안돌고 하는 방법이 있다는데 ... 잘 모르겠다...\n",
        "#음...... n/2번은 할 수 있긴하다 그러나 굳이?....\n",
        "# 아하! n/2번이 아니라 n의 제곱근정도면 나쁘진 않네~\n",
        "import math \n",
        "def yaksu(N):\n",
        "    for i in range(1, int(math.sqrt(N))+1):\n",
        "        if N % i == 0:\n",
        "            print(str(i))\n",
        "            if int(N / i) != i:\n",
        "                print((int(N / i))) #이때는 10이 중복되기 때문에 if문으로 한번 더 걸러야함!\n",
        "\n",
        "yaksu(100)"
      ],
      "execution_count": null,
      "outputs": [
        {
          "output_type": "stream",
          "text": [
            "1\n",
            "100\n",
            "2\n",
            "50\n",
            "4\n",
            "25\n",
            "5\n",
            "20\n",
            "10\n"
          ],
          "name": "stdout"
        }
      ]
    },
    {
      "cell_type": "code",
      "metadata": {
        "id": "iIaU-OJRSiKS",
        "colab_type": "code",
        "colab": {
          "base_uri": "https://localhost:8080/",
          "height": 52
        },
        "outputId": "36e4241d-d40c-4403-9b14-27d2ad81dd77"
      },
      "source": [
        "\n",
        "\n",
        "\n",
        "##알고리즘 수업 과제2\n",
        "def max_and_min():\n",
        "    str_inputs = input()\n",
        "    str_list = str_inputs.split(' ')\n",
        "\n",
        "    max = str_list[0]\n",
        "    for num in str_list:\n",
        "        if num > max:\n",
        "            max = num\n",
        "    min = str_list[0]\n",
        "    for num in str_list:\n",
        "        if num < min:\n",
        "            min = num\n",
        "\n",
        "\n",
        "    return max, min\n",
        "\n",
        "\n",
        "max, min = max_and_min()\n",
        "print('{} {}'.format(max, min))\n"
      ],
      "execution_count": null,
      "outputs": [
        {
          "output_type": "stream",
          "text": [
            "2 1 3 100 412 22\n",
            "412 1\n"
          ],
          "name": "stdout"
        }
      ]
    },
    {
      "cell_type": "code",
      "metadata": {
        "id": "txHfNcZJ1V55",
        "colab_type": "code",
        "colab": {}
      },
      "source": [
        "#수요일 수업"
      ],
      "execution_count": null,
      "outputs": []
    },
    {
      "cell_type": "markdown",
      "metadata": {
        "id": "efsRolf81YP6",
        "colab_type": "text"
      },
      "source": [
        "#웹수업\n",
        "* git pull 하면 꼬일 수 있다. 왜냐? 깃은 버전관리 시스템이기 때문이다.\n",
        "* 그냥 레포를 새로 파라. 레포파는데 돈 안든다."
      ]
    },
    {
      "cell_type": "markdown",
      "metadata": {
        "id": "Ma6uZd_8FanE",
        "colab_type": "text"
      },
      "source": [
        "#데이터분석\n"
      ]
    },
    {
      "cell_type": "code",
      "metadata": {
        "id": "wgkb-v7ZKbuF",
        "colab_type": "code",
        "colab": {}
      },
      "source": [
        "#데이터프레임, 시리즈 모두 .plot.bar 쓸 수 있다."
      ],
      "execution_count": null,
      "outputs": []
    },
    {
      "cell_type": "code",
      "metadata": {
        "id": "j1lfI1OJWGZD",
        "colab_type": "code",
        "colab": {
          "base_uri": "https://localhost:8080/",
          "height": 239
        },
        "outputId": "6c586dcc-5f09-42ad-9d7c-cef07f40e334"
      },
      "source": [
        "#머신러닝 수업\n",
        "from sklearn.svm import SVC \n",
        "from sklearn.svm import SVC\n",
        "xor_input = [\n",
        "             [0,0,0],\n",
        "             [0,1,1],\n",
        "             [1,0,1],\n",
        "             [1,1,0]\n",
        "]\n",
        "\n",
        "xor_data = []\n",
        "xor_label = []\n",
        "\n",
        "for row in xor_input:\n",
        "    p = row[0]\n",
        "    q = row[1]\n",
        "    r = row[2]\n",
        "    xor_data.append([p,q])\n",
        "    xor_label.append(r)\n",
        "\n",
        "model = svm.SVC()\n",
        "model.fit(xor_data, xor_label)\n",
        "\n",
        "pre = model.predict(xor_data)\n",
        "print(\"예측데이터:\", xor_data)\n",
        "print(\"예측 결과:\", pre)\n",
        "\n",
        "ok = 0: total = 0\n",
        "for idx, answer in enumerate(xor_label):\n",
        "    p = pre[idx]\n",
        "    if p == answer:\n",
        "        ok += 1\n",
        "    total += 1\n",
        "\n",
        "print(\"정답률:\".ok, '/', total, '=' , ok/total)"
      ],
      "execution_count": null,
      "outputs": [
        {
          "output_type": "error",
          "ename": "NameError",
          "evalue": "ignored",
          "traceback": [
            "\u001b[0;31m---------------------------------------------------------------------------\u001b[0m",
            "\u001b[0;31mNameError\u001b[0m                                 Traceback (most recent call last)",
            "\u001b[0;32m<ipython-input-4-73c983846f84>\u001b[0m in \u001b[0;36m<module>\u001b[0;34m()\u001b[0m\n\u001b[1;32m     19\u001b[0m     \u001b[0mxor_label\u001b[0m\u001b[0;34m.\u001b[0m\u001b[0mappend\u001b[0m\u001b[0;34m(\u001b[0m\u001b[0mr\u001b[0m\u001b[0;34m)\u001b[0m\u001b[0;34m\u001b[0m\u001b[0;34m\u001b[0m\u001b[0m\n\u001b[1;32m     20\u001b[0m \u001b[0;34m\u001b[0m\u001b[0m\n\u001b[0;32m---> 21\u001b[0;31m \u001b[0mmodel\u001b[0m \u001b[0;34m=\u001b[0m \u001b[0msvm\u001b[0m\u001b[0;34m.\u001b[0m\u001b[0mSVC\u001b[0m\u001b[0;34m(\u001b[0m\u001b[0;34m)\u001b[0m\u001b[0;34m\u001b[0m\u001b[0;34m\u001b[0m\u001b[0m\n\u001b[0m\u001b[1;32m     22\u001b[0m \u001b[0mmodel\u001b[0m\u001b[0;34m.\u001b[0m\u001b[0mfit\u001b[0m\u001b[0;34m(\u001b[0m\u001b[0mxor_data\u001b[0m\u001b[0;34m,\u001b[0m \u001b[0mxor_label\u001b[0m\u001b[0;34m)\u001b[0m\u001b[0;34m\u001b[0m\u001b[0;34m\u001b[0m\u001b[0m\n\u001b[1;32m     23\u001b[0m \u001b[0;34m\u001b[0m\u001b[0m\n",
            "\u001b[0;31mNameError\u001b[0m: name 'svm' is not defined"
          ]
        }
      ]
    },
    {
      "cell_type": "code",
      "metadata": {
        "id": "ZGj147_PWTXC",
        "colab_type": "code",
        "colab": {
          "base_uri": "https://localhost:8080/",
          "height": 34
        },
        "outputId": "a444ffd4-8f53-4b8a-de89-f981ff2c2b60"
      },
      "source": [
        "import pandas  as pd\n",
        "from sklearn import svm, metrics\n",
        "from sklearn.neighbors import KNeighborsClassifier\n",
        "/\n",
        "xor_input = [\n",
        "             [0,0,0],\n",
        "             [0,1,0],\n",
        "             [1,0,0],\n",
        "             [1,1,1]\n",
        "]\n",
        "\n",
        "\n",
        "xor_df = pd.DataFrame(xor_input)\n",
        "xor_data = xor_df[[0,1]] # [:2], [-1]\n",
        "xor_label = xor_df[2]\n",
        "\n",
        "\n",
        "model = svm.SVC()\n",
        "model.fit(xor_data, xor_label)\n",
        "pre = model.predict(xor_data)\n",
        "\n",
        "\n",
        "ac_score = metrics.accuracy_score(xor_label, pre)\n",
        "print(\"정답률:\", ac_score)\n",
        "\n",
        "\n"
      ],
      "execution_count": null,
      "outputs": [
        {
          "output_type": "stream",
          "text": [
            "정답률: 1.0\n"
          ],
          "name": "stdout"
        }
      ]
    },
    {
      "cell_type": "markdown",
      "metadata": {
        "id": "CH8v7Zks9S5E",
        "colab_type": "text"
      },
      "source": [
        "#웹수업\n",
        "*  pull은 다른 사람이랑 협업할때 버전 맞추기 위한것!\n",
        "*  다른줄에 오는 block tag(ex div), 같은줄에 오는 inline tag (ex span)\n",
        "*  ! + tab으로 html 기본구조 만들 수 있다."
      ]
    },
    {
      "cell_type": "markdown",
      "metadata": {
        "id": "shgMT19yV-s4",
        "colab_type": "text"
      },
      "source": [
        "#빅데이터수업(코드)"
      ]
    },
    {
      "cell_type": "code",
      "metadata": {
        "id": "VVQGQuQLTxsO",
        "colab_type": "code",
        "colab": {}
      },
      "source": [
        "#빅데이터 수업\n",
        "df.groupby('bloodtype')['height', 'weight'].mean() \n",
        "# 이런식으로 데이터 정렬의 기준을 혈액형으로 바꾸고, 원하는 값들에 대한 평균을 낼 수 있다.\n",
        "\n",
        "df.groupby(['gender', 'bloodtype']).mean()\n",
        "#이런 식으로 하면 multi index가 된다. \n",
        "\n",
        "sr = df.groupby(['gender', 'absense', 'bloodtype'])['height'].mean()\n",
        "#그리고 이런 식으로 series로 쓸 수도 있다..\n",
        "\n",
        "sr['F']['N']['AB']\n",
        "#df는 loc써야하지만 위처럼 sr은 loc 안써도 된다\n",
        "\n",
        "\n",
        "df. height = df.height.apply(lambda x : x/100) \n",
        "#이렇게 무명함수(람다함수) 사용가능\n",
        "\n",
        "df.sort_values(by=['bloodtype', 'absense'], ascending = [True, False])\n",
        "#두가지 기준으로 소팅가능~~~~~\n",
        "\n",
        "pd.pivot_table(df, index=['gender', 'absenve'], columns=['bloodtype'], values=['height', 'weight'], fill_value=0, agg_func = ['height':np.std, 'weight':np.mean])\n",
        "# 결측치는0으로 채우고, 행과 열 모두에 기준을 세울 수 있다.(values 는 수치형 변수!)\n",
        "# 피봇테이블은 그룹바이의 확장버전!\n",
        "\n",
        "df.sort_values(by='gender').reset_index(drop=True) # 인덱스 정렬 리셋!"
      ],
      "execution_count": null,
      "outputs": []
    },
    {
      "cell_type": "markdown",
      "metadata": {
        "id": "XOEwwDiNt5xy",
        "colab_type": "text"
      },
      "source": [
        "#딥러닝 수업\n",
        "* 트레이닝 셋은 역전파수행, 테스트 셋은 역전파 수행할 필요 없음\n",
        "\n",
        "\n",
        "\n"
      ]
    },
    {
      "cell_type": "markdown",
      "metadata": {
        "id": "C9L-AJbmIE8h",
        "colab_type": "text"
      },
      "source": [
        "#자연어처리수업"
      ]
    },
    {
      "cell_type": "code",
      "metadata": {
        "id": "M-QtualBIHGj",
        "colab_type": "code",
        "colab": {
          "base_uri": "https://localhost:8080/",
          "height": 70
        },
        "outputId": "0be3fac3-81de-444c-8e5d-137e1fd626cf"
      },
      "source": [
        "#자연어처리\n",
        "\n",
        "import nltk\n",
        "\n",
        "nltk.download('punkt')\n"
      ],
      "execution_count": null,
      "outputs": [
        {
          "output_type": "stream",
          "text": [
            "[nltk_data] Downloading package punkt to /root/nltk_data...\n",
            "[nltk_data]   Unzipping tokenizers/punkt.zip.\n"
          ],
          "name": "stdout"
        },
        {
          "output_type": "execute_result",
          "data": {
            "text/plain": [
              "True"
            ]
          },
          "metadata": {
            "tags": []
          },
          "execution_count": 5
        }
      ]
    },
    {
      "cell_type": "code",
      "metadata": {
        "id": "xRYFVLYMJPaK",
        "colab_type": "code",
        "colab": {
          "base_uri": "https://localhost:8080/",
          "height": 54
        },
        "outputId": "289b56d8-60c0-4664-cdd0-227f899e3acc"
      },
      "source": [
        "from nltk.tokenize import word_tokenize\n",
        "\n",
        "text = '''I'm off the deep end, watch as I dive in.\n",
        "I'll never meet the ground.\n",
        "Crash through the surface, where they can't hurt us.\n",
        "We're far from the shallow now.\n",
        "In the shallow, shallow.\n",
        "In the shallow, shallow.\n",
        "In the shallow, shallow.\n",
        "We're far from the shallow now.\n",
        "'''\n",
        "\n",
        "print(word_tokenize(text))"
      ],
      "execution_count": null,
      "outputs": [
        {
          "output_type": "stream",
          "text": [
            "['I', \"'m\", 'off', 'the', 'deep', 'end', ',', 'watch', 'as', 'I', 'dive', 'in', '.', 'I', \"'ll\", 'never', 'meet', 'the', 'ground', '.', 'Crash', 'through', 'the', 'surface', ',', 'where', 'they', 'ca', \"n't\", 'hurt', 'us', '.', 'We', \"'re\", 'far', 'from', 'the', 'shallow', 'now', '.', 'In', 'the', 'shallow', ',', 'shallow', '.', 'In', 'the', 'shallow', ',', 'shallow', '.', 'In', 'the', 'shallow', ',', 'shallow', '.', 'We', \"'re\", 'far', 'from', 'the', 'shallow', 'now', '.']\n"
          ],
          "name": "stdout"
        }
      ]
    },
    {
      "cell_type": "code",
      "metadata": {
        "id": "LIL_vD5TKWFr",
        "colab_type": "code",
        "colab": {
          "base_uri": "https://localhost:8080/",
          "height": 54
        },
        "outputId": "08a3fe91-e92e-49f3-dd03-122ea9d5f9fa"
      },
      "source": [
        "from nltk.tokenize import WordPunctTokenizer\n",
        "\n",
        "print(WordPunctTokenizer().tokenize(text))"
      ],
      "execution_count": null,
      "outputs": [
        {
          "output_type": "stream",
          "text": [
            "['I', \"'\", 'm', 'off', 'the', 'deep', 'end', ',', 'watch', 'as', 'I', 'dive', 'in', '.', 'I', \"'\", 'll', 'never', 'meet', 'the', 'ground', '.', 'Crash', 'through', 'the', 'surface', ',', 'where', 'they', 'can', \"'\", 't', 'hurt', 'us', '.', 'We', \"'\", 're', 'far', 'from', 'the', 'shallow', 'now', '.', 'In', 'the', 'shallow', ',', 'shallow', '.', 'In', 'the', 'shallow', ',', 'shallow', '.', 'In', 'the', 'shallow', ',', 'shallow', '.', 'We', \"'\", 're', 'far', 'from', 'the', 'shallow', 'now', '.']\n"
          ],
          "name": "stdout"
        }
      ]
    },
    {
      "cell_type": "code",
      "metadata": {
        "id": "TS-lLJmQK66A",
        "colab_type": "code",
        "colab": {
          "base_uri": "https://localhost:8080/",
          "height": 54
        },
        "outputId": "0d51a8d5-4453-4bec-c8b4-ffb59283681a"
      },
      "source": [
        "from nltk.tokenize import TreebankWordTokenizer\n",
        "print(TreebankWordTokenizer().tokenize(text))"
      ],
      "execution_count": null,
      "outputs": [
        {
          "output_type": "stream",
          "text": [
            "['I', \"'m\", 'off', 'the', 'deep', 'end', ',', 'watch', 'as', 'I', 'dive', 'in.', 'I', \"'ll\", 'never', 'meet', 'the', 'ground.', 'Crash', 'through', 'the', 'surface', ',', 'where', 'they', 'ca', \"n't\", 'hurt', 'us.', 'We', \"'re\", 'far', 'from', 'the', 'shallow', 'now.', 'In', 'the', 'shallow', ',', 'shallow.', 'In', 'the', 'shallow', ',', 'shallow.', 'In', 'the', 'shallow', ',', 'shallow.', 'We', \"'re\", 'far', 'from', 'the', 'shallow', 'now', '.']\n"
          ],
          "name": "stdout"
        }
      ]
    },
    {
      "cell_type": "code",
      "metadata": {
        "id": "1-EajyqFLC-h",
        "colab_type": "code",
        "colab": {
          "base_uri": "https://localhost:8080/",
          "height": 54
        },
        "outputId": "74960b51-ed94-49b7-b121-69839785cf9b"
      },
      "source": [
        "from nltk.tokenize import RegexpTokenizer\n",
        "\n",
        "#''안에 정규표현식을 작성해서 단어별로 토큰화\n",
        "print(RegexpTokenizer(r'\\w+').tokenize(text))"
      ],
      "execution_count": null,
      "outputs": [
        {
          "output_type": "stream",
          "text": [
            "['I', 'm', 'off', 'the', 'deep', 'end', 'watch', 'as', 'I', 'dive', 'in', 'I', 'll', 'never', 'meet', 'the', 'ground', 'Crash', 'through', 'the', 'surface', 'where', 'they', 'can', 't', 'hurt', 'us', 'We', 're', 'far', 'from', 'the', 'shallow', 'now', 'In', 'the', 'shallow', 'shallow', 'In', 'the', 'shallow', 'shallow', 'In', 'the', 'shallow', 'shallow', 'We', 're', 'far', 'from', 'the', 'shallow', 'now']\n"
          ],
          "name": "stdout"
        }
      ]
    },
    {
      "cell_type": "code",
      "metadata": {
        "id": "oygNFf8OMdKM",
        "colab_type": "code",
        "colab": {
          "base_uri": "https://localhost:8080/",
          "height": 54
        },
        "outputId": "08ed1f0b-5af7-475d-91d8-4aef98d5bf1e"
      },
      "source": [
        "from nltk.tokenize import sent_tokenize\n",
        "\n",
        "print(sent_tokenize(text))"
      ],
      "execution_count": null,
      "outputs": [
        {
          "output_type": "stream",
          "text": [
            "[\"I'm off the deep end, watch as I dive in.\", \"I'll never meet the ground.\", \"Crash through the surface, where they can't hurt us.\", \"We're far from the shallow now.\", 'In the shallow, shallow.', 'In the shallow, shallow.', 'In the shallow, shallow.', \"We're far from the shallow now.\"]\n"
          ],
          "name": "stdout"
        }
      ]
    },
    {
      "cell_type": "code",
      "metadata": {
        "id": "_MnYxLPPNAL_",
        "colab_type": "code",
        "colab": {
          "base_uri": "https://localhost:8080/",
          "height": 758
        },
        "outputId": "3f6831d7-f1f4-4735-9a66-89e4d5438e6f"
      },
      "source": [
        "!pip install konlpy\n",
        "!pip install kss"
      ],
      "execution_count": null,
      "outputs": [
        {
          "output_type": "stream",
          "text": [
            "Collecting konlpy\n",
            "\u001b[?25l  Downloading https://files.pythonhosted.org/packages/85/0e/f385566fec837c0b83f216b2da65db9997b35dd675e107752005b7d392b1/konlpy-0.5.2-py2.py3-none-any.whl (19.4MB)\n",
            "\u001b[K     |████████████████████████████████| 19.4MB 70.4MB/s \n",
            "\u001b[?25hCollecting JPype1>=0.7.0\n",
            "\u001b[?25l  Downloading https://files.pythonhosted.org/packages/2d/9b/e115101a833605b3c0e6f3a2bc1f285c95aaa1d93ab808314ca1bde63eed/JPype1-0.7.5-cp36-cp36m-manylinux2010_x86_64.whl (3.6MB)\n",
            "\u001b[K     |████████████████████████████████| 3.6MB 33.5MB/s \n",
            "\u001b[?25hRequirement already satisfied: numpy>=1.6 in /usr/local/lib/python3.6/dist-packages (from konlpy) (1.18.5)\n",
            "Collecting tweepy>=3.7.0\n",
            "  Downloading https://files.pythonhosted.org/packages/bb/7c/99d51f80f3b77b107ebae2634108717362c059a41384a1810d13e2429a81/tweepy-3.9.0-py2.py3-none-any.whl\n",
            "Collecting beautifulsoup4==4.6.0\n",
            "\u001b[?25l  Downloading https://files.pythonhosted.org/packages/9e/d4/10f46e5cfac773e22707237bfcd51bbffeaf0a576b0a847ec7ab15bd7ace/beautifulsoup4-4.6.0-py3-none-any.whl (86kB)\n",
            "\u001b[K     |████████████████████████████████| 92kB 9.2MB/s \n",
            "\u001b[?25hCollecting colorama\n",
            "  Downloading https://files.pythonhosted.org/packages/c9/dc/45cdef1b4d119eb96316b3117e6d5708a08029992b2fee2c143c7a0a5cc5/colorama-0.4.3-py2.py3-none-any.whl\n",
            "Requirement already satisfied: lxml>=4.1.0 in /usr/local/lib/python3.6/dist-packages (from konlpy) (4.2.6)\n",
            "Requirement already satisfied: requests-oauthlib>=0.7.0 in /usr/local/lib/python3.6/dist-packages (from tweepy>=3.7.0->konlpy) (1.3.0)\n",
            "Requirement already satisfied: requests[socks]>=2.11.1 in /usr/local/lib/python3.6/dist-packages (from tweepy>=3.7.0->konlpy) (2.23.0)\n",
            "Requirement already satisfied: six>=1.10.0 in /usr/local/lib/python3.6/dist-packages (from tweepy>=3.7.0->konlpy) (1.12.0)\n",
            "Requirement already satisfied: oauthlib>=3.0.0 in /usr/local/lib/python3.6/dist-packages (from requests-oauthlib>=0.7.0->tweepy>=3.7.0->konlpy) (3.1.0)\n",
            "Requirement already satisfied: idna<3,>=2.5 in /usr/local/lib/python3.6/dist-packages (from requests[socks]>=2.11.1->tweepy>=3.7.0->konlpy) (2.10)\n",
            "Requirement already satisfied: certifi>=2017.4.17 in /usr/local/lib/python3.6/dist-packages (from requests[socks]>=2.11.1->tweepy>=3.7.0->konlpy) (2020.6.20)\n",
            "Requirement already satisfied: urllib3!=1.25.0,!=1.25.1,<1.26,>=1.21.1 in /usr/local/lib/python3.6/dist-packages (from requests[socks]>=2.11.1->tweepy>=3.7.0->konlpy) (1.24.3)\n",
            "Requirement already satisfied: chardet<4,>=3.0.2 in /usr/local/lib/python3.6/dist-packages (from requests[socks]>=2.11.1->tweepy>=3.7.0->konlpy) (3.0.4)\n",
            "Requirement already satisfied: PySocks!=1.5.7,>=1.5.6; extra == \"socks\" in /usr/local/lib/python3.6/dist-packages (from requests[socks]>=2.11.1->tweepy>=3.7.0->konlpy) (1.7.1)\n",
            "Installing collected packages: JPype1, tweepy, beautifulsoup4, colorama, konlpy\n",
            "  Found existing installation: tweepy 3.6.0\n",
            "    Uninstalling tweepy-3.6.0:\n",
            "      Successfully uninstalled tweepy-3.6.0\n",
            "  Found existing installation: beautifulsoup4 4.6.3\n",
            "    Uninstalling beautifulsoup4-4.6.3:\n",
            "      Successfully uninstalled beautifulsoup4-4.6.3\n",
            "Successfully installed JPype1-0.7.5 beautifulsoup4-4.6.0 colorama-0.4.3 konlpy-0.5.2 tweepy-3.9.0\n",
            "Collecting kss\n",
            "  Downloading https://files.pythonhosted.org/packages/fc/bb/4772901b3b934ac204f32a0bd6fc0567871d8378f9bbc7dd5fd5e16c6ee7/kss-1.3.1.tar.gz\n",
            "Building wheels for collected packages: kss\n",
            "  Building wheel for kss (setup.py) ... \u001b[?25l\u001b[?25hdone\n",
            "  Created wheel for kss: filename=kss-1.3.1-cp36-cp36m-linux_x86_64.whl size=251536 sha256=36181df77b59f5ba392e3ed8f25735a41e5e17bdb5d9df26991de2a46c410ed8\n",
            "  Stored in directory: /root/.cache/pip/wheels/8b/98/d1/53f75f89925cd95779824778725ee3fa36e7aa55ed26ad54a8\n",
            "Successfully built kss\n",
            "Installing collected packages: kss\n",
            "Successfully installed kss-1.3.1\n"
          ],
          "name": "stdout"
        }
      ]
    },
    {
      "cell_type": "code",
      "metadata": {
        "id": "8UnP7u9ONKYz",
        "colab_type": "code",
        "colab": {
          "base_uri": "https://localhost:8080/",
          "height": 72
        },
        "outputId": "57ef05b4-724e-4841-e496-546fc2b99da6"
      },
      "source": [
        "from konlpy.tag import Okt, Kkma\n",
        "import kss\n",
        "ktext = \"안녕? 내가 누굴까요? 난 임지백입니다.\"\n",
        "print(Kkma().morphs(ktext))\n",
        "print(kss.split_sentences(ktext))"
      ],
      "execution_count": null,
      "outputs": [
        {
          "output_type": "stream",
          "text": [
            "['안녕', '?', '내', '가', '누구', '를', '까', '아요', '?', '나', '는', '임지', '백이', 'ㅂ니다', '.']\n",
            "['안녕? 내가 누굴까요?', '난 임지백입니다.']\n"
          ],
          "name": "stdout"
        }
      ]
    },
    {
      "cell_type": "code",
      "metadata": {
        "id": "Omidln2RN3x5",
        "colab_type": "code",
        "colab": {
          "base_uri": "https://localhost:8080/",
          "height": 1000
        },
        "outputId": "69716d9c-1eb6-4b42-c016-e24d38947b26"
      },
      "source": [
        "from nltk.stem import PorterStemmer\n",
        "\n",
        "words = word_tokenize(text)\n",
        "for word in words:\n",
        "    print(PorterStemmer().stem(word))"
      ],
      "execution_count": null,
      "outputs": [
        {
          "output_type": "stream",
          "text": [
            "I\n",
            "'m\n",
            "off\n",
            "the\n",
            "deep\n",
            "end\n",
            ",\n",
            "watch\n",
            "as\n",
            "I\n",
            "dive\n",
            "in\n",
            ".\n",
            "I\n",
            "'ll\n",
            "never\n",
            "meet\n",
            "the\n",
            "ground\n",
            ".\n",
            "crash\n",
            "through\n",
            "the\n",
            "surfac\n",
            ",\n",
            "where\n",
            "they\n",
            "ca\n",
            "n't\n",
            "hurt\n",
            "us\n",
            ".\n",
            "We\n",
            "'re\n",
            "far\n",
            "from\n",
            "the\n",
            "shallow\n",
            "now\n",
            ".\n",
            "In\n",
            "the\n",
            "shallow\n",
            ",\n",
            "shallow\n",
            ".\n",
            "In\n",
            "the\n",
            "shallow\n",
            ",\n",
            "shallow\n",
            ".\n",
            "In\n",
            "the\n",
            "shallow\n",
            ",\n",
            "shallow\n",
            ".\n",
            "We\n",
            "'re\n",
            "far\n",
            "from\n",
            "the\n",
            "shallow\n",
            "now\n",
            ".\n"
          ],
          "name": "stdout"
        }
      ]
    },
    {
      "cell_type": "code",
      "metadata": {
        "id": "_VfMIunPOp5i",
        "colab_type": "code",
        "colab": {
          "base_uri": "https://localhost:8080/",
          "height": 70
        },
        "outputId": "8449b0f2-b581-42c7-cbbc-8c2efb7bc526"
      },
      "source": [
        "nltk.download('stopwords')"
      ],
      "execution_count": null,
      "outputs": [
        {
          "output_type": "stream",
          "text": [
            "[nltk_data] Downloading package stopwords to /root/nltk_data...\n",
            "[nltk_data]   Unzipping corpora/stopwords.zip.\n"
          ],
          "name": "stdout"
        },
        {
          "output_type": "execute_result",
          "data": {
            "text/plain": [
              "True"
            ]
          },
          "metadata": {
            "tags": []
          },
          "execution_count": 30
        }
      ]
    },
    {
      "cell_type": "code",
      "metadata": {
        "id": "s8Dd7-dVOwD4",
        "colab_type": "code",
        "colab": {
          "base_uri": "https://localhost:8080/",
          "height": 90
        },
        "outputId": "07947e43-88f2-4751-95be-aebfe96b0ee9"
      },
      "source": [
        "from nltk.corpus import stopwords\n",
        "sw = stopwords.words('english')\n",
        "sw = ['.', ',']\n",
        "\n",
        "print(sw)\n",
        "print(words)\n",
        "\n",
        "for word in words:\n",
        "    for s_word in sw:\n",
        "        if s_word.upper() == word.upper():\n",
        "            words.remove(word)\n",
        "print(words)"
      ],
      "execution_count": null,
      "outputs": [
        {
          "output_type": "stream",
          "text": [
            "['.', ',']\n",
            "[\"'m\", 'deep', 'end', ',', 'watch', 'dive', '.', \"'ll\", 'never', 'meet', 'ground', '.', 'Crash', 'surface', ',', 'ca', \"n't\", 'hurt', 'us', '.', \"'re\", 'far', 'shallow', '.', 'shallow', ',', 'shallow', '.', 'shallow', ',', 'shallow', '.', 'shallow', ',', 'shallow', '.', \"'re\", 'far', 'shallow', '.']\n",
            "[\"'m\", 'deep', 'end', 'watch', 'dive', \"'ll\", 'never', 'meet', 'ground', 'Crash', 'surface', 'ca', \"n't\", 'hurt', 'us', \"'re\", 'far', 'shallow', 'shallow', 'shallow', 'shallow', 'shallow', 'shallow', 'shallow', \"'re\", 'far', 'shallow']\n"
          ],
          "name": "stdout"
        }
      ]
    },
    {
      "cell_type": "code",
      "metadata": {
        "id": "w4QLz8_3SRUd",
        "colab_type": "code",
        "colab": {
          "base_uri": "https://localhost:8080/",
          "height": 54
        },
        "outputId": "5c1b9f54-9747-407e-b137-de904a8c87bf"
      },
      "source": [
        "from collections import Counter\n",
        "count_list = Counter(words)\n",
        "print(count_list)"
      ],
      "execution_count": null,
      "outputs": [
        {
          "output_type": "stream",
          "text": [
            "Counter({'shallow': 8, \"'re\": 2, 'far': 2, \"'m\": 1, 'deep': 1, 'end': 1, 'watch': 1, 'dive': 1, \"'ll\": 1, 'never': 1, 'meet': 1, 'ground': 1, 'Crash': 1, 'surface': 1, 'ca': 1, \"n't\": 1, 'hurt': 1, 'us': 1})\n"
          ],
          "name": "stdout"
        }
      ]
    },
    {
      "cell_type": "code",
      "metadata": {
        "id": "5UjOrY-YTGoX",
        "colab_type": "code",
        "colab": {
          "base_uri": "https://localhost:8080/",
          "height": 72
        },
        "outputId": "47ecb53f-91c3-4fe2-fd98-a046efc6ce5e"
      },
      "source": [
        "common_cl = count_list.most_common(10)\n",
        "print(common_cl)\n",
        "\n",
        "common_cl_dict = {}\n",
        "\n",
        "# for word in common_cl:\n",
        "#     common_cl_dict[word[0]] = word[1]\n",
        "\n",
        "i = 0\n",
        "for (key, value) in common_cl:\n",
        "    common_cl_dict[key] = i\n",
        "    i += 1\n",
        "\n",
        "print(common_cl_dict)"
      ],
      "execution_count": null,
      "outputs": [
        {
          "output_type": "stream",
          "text": [
            "[('shallow', 8), (\"'re\", 2), ('far', 2), (\"'m\", 1), ('deep', 1), ('end', 1), ('watch', 1), ('dive', 1), (\"'ll\", 1), ('never', 1)]\n",
            "{'shallow': 0, \"'re\": 1, 'far': 2, \"'m\": 3, 'deep': 4, 'end': 5, 'watch': 6, 'dive': 7, \"'ll\": 8, 'never': 9}\n"
          ],
          "name": "stdout"
        }
      ]
    },
    {
      "cell_type": "code",
      "metadata": {
        "id": "TrYbgeuKUyhZ",
        "colab_type": "code",
        "colab": {
          "base_uri": "https://localhost:8080/",
          "height": 219
        },
        "outputId": "a68b74cd-1720-44ff-8ffb-93a7969ce75e"
      },
      "source": [
        "from wordcloud import WordCloud\n",
        "import matplotlib.pyplot as plt\n",
        "\n",
        "my_wc = WordCloud(background_color='white')\n",
        "plt.imshow(my_wc.generate_from_frequencies(count_list))\n",
        "plt.show()"
      ],
      "execution_count": null,
      "outputs": [
        {
          "output_type": "display_data",
          "data": {
            "image/png": "[encoded data removed]",
            "text/plain": [
              "<Figure size 432x288 with 1 Axes>"
            ]
          },
          "metadata": {
            "tags": [],
            "needs_background": "light"
          }
        }
      ]
    },
    {
      "cell_type": "markdown",
      "metadata": {
        "id": "4xhtT0s1a4ll",
        "colab_type": "text"
      },
      "source": [
        "#머신러닝수업"
      ]
    },
    {
      "cell_type": "code",
      "metadata": {
        "id": "LJova9Tka74D",
        "colab_type": "code",
        "colab": {
          "base_uri": "https://localhost:8080/",
          "height": 1000
        },
        "outputId": "b132e6d7-ef39-4953-868e-624db577aef4"
      },
      "source": [
        "# 객체.keys() 하면 불러올 수 있는 키값들 나온다!!!\n",
        "\n",
        "from sklearn.datasets import load_iris\n",
        "ds = load_iris()\n",
        "\n",
        "print(ds.DESCR) #describe의 앞글자군!!!\n",
        "\n"
      ],
      "execution_count": null,
      "outputs": [
        {
          "output_type": "stream",
          "text": [
            ".. _iris_dataset:\n",
            "\n",
            "Iris plants dataset\n",
            "--------------------\n",
            "\n",
            "**Data Set Characteristics:**\n",
            "\n",
            "    :Number of Instances: 150 (50 in each of three classes)\n",
            "    :Number of Attributes: 4 numeric, predictive attributes and the class\n",
            "    :Attribute Information:\n",
            "        - sepal length in cm\n",
            "        - sepal width in cm\n",
            "        - petal length in cm\n",
            "        - petal width in cm\n",
            "        - class:\n",
            "                - Iris-Setosa\n",
            "                - Iris-Versicolour\n",
            "                - Iris-Virginica\n",
            "                \n",
            "    :Summary Statistics:\n",
            "\n",
            "    ============== ==== ==== ======= ===== ====================\n",
            "                    Min  Max   Mean    SD   Class Correlation\n",
            "    ============== ==== ==== ======= ===== ====================\n",
            "    sepal length:   4.3  7.9   5.84   0.83    0.7826\n",
            "    sepal width:    2.0  4.4   3.05   0.43   -0.4194\n",
            "    petal length:   1.0  6.9   3.76   1.76    0.9490  (high!)\n",
            "    petal width:    0.1  2.5   1.20   0.76    0.9565  (high!)\n",
            "    ============== ==== ==== ======= ===== ====================\n",
            "\n",
            "    :Missing Attribute Values: None\n",
            "    :Class Distribution: 33.3% for each of 3 classes.\n",
            "    :Creator: R.A. Fisher\n",
            "    :Donor: Michael Marshall (MARSHALL%PLU@io.arc.nasa.gov)\n",
            "    :Date: July, 1988\n",
            "\n",
            "The famous Iris database, first used by Sir R.A. Fisher. The dataset is taken\n",
            "from Fisher's paper. Note that it's the same as in R, but not as in the UCI\n",
            "Machine Learning Repository, which has two wrong data points.\n",
            "\n",
            "This is perhaps the best known database to be found in the\n",
            "pattern recognition literature.  Fisher's paper is a classic in the field and\n",
            "is referenced frequently to this day.  (See Duda & Hart, for example.)  The\n",
            "data set contains 3 classes of 50 instances each, where each class refers to a\n",
            "type of iris plant.  One class is linearly separable from the other 2; the\n",
            "latter are NOT linearly separable from each other.\n",
            "\n",
            ".. topic:: References\n",
            "\n",
            "   - Fisher, R.A. \"The use of multiple measurements in taxonomic problems\"\n",
            "     Annual Eugenics, 7, Part II, 179-188 (1936); also in \"Contributions to\n",
            "     Mathematical Statistics\" (John Wiley, NY, 1950).\n",
            "   - Duda, R.O., & Hart, P.E. (1973) Pattern Classification and Scene Analysis.\n",
            "     (Q327.D83) John Wiley & Sons.  ISBN 0-471-22361-1.  See page 218.\n",
            "   - Dasarathy, B.V. (1980) \"Nosing Around the Neighborhood: A New System\n",
            "     Structure and Classification Rule for Recognition in Partially Exposed\n",
            "     Environments\".  IEEE Transactions on Pattern Analysis and Machine\n",
            "     Intelligence, Vol. PAMI-2, No. 1, 67-71.\n",
            "   - Gates, G.W. (1972) \"The Reduced Nearest Neighbor Rule\".  IEEE Transactions\n",
            "     on Information Theory, May 1972, 431-433.\n",
            "   - See also: 1988 MLC Proceedings, 54-64.  Cheeseman et al\"s AUTOCLASS II\n",
            "     conceptual clustering system finds 3 classes in the data.\n",
            "   - Many, many more ...\n"
          ],
          "name": "stdout"
        }
      ]
    }
  ]
}